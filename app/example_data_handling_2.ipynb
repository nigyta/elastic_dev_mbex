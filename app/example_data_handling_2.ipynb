{
 "cells": [
  {
   "cell_type": "markdown",
   "metadata": {},
   "source": [
    "参考　https://blog.imind.jp/entry/2019/03/08/185935"
   ]
  },
  {
   "cell_type": "code",
   "execution_count": null,
   "metadata": {},
   "outputs": [],
   "source": [
    "import elasticsearch"
   ]
  },
  {
   "cell_type": "code",
   "execution_count": null,
   "metadata": {},
   "outputs": [],
   "source": [
    "from elasticsearch import helpers  # bulk データ投入用"
   ]
  },
  {
   "cell_type": "code",
   "execution_count": null,
   "metadata": {},
   "outputs": [],
   "source": [
    "import io\n",
    "import requests\n",
    "import pandas as pd"
   ]
  },
  {
   "cell_type": "code",
   "execution_count": null,
   "metadata": {},
   "outputs": [],
   "source": [
    "URL = \"\"  # Google spread sheetのURL\n",
    "def load_data_from_google_drive(URL, index_col=None):\n",
    "    '''サンプルデータ読み込み'''\n",
    "\n",
    "    URL = URL.replace(\"open\", \"uc\")\n",
    "    r = requests.get(URL)\n",
    "    df = pd.read_csv(io.BytesIO(r.content), index_col=index_col)\n",
    "    return df"
   ]
  },
  {
   "cell_type": "code",
   "execution_count": null,
   "metadata": {},
   "outputs": [],
   "source": [
    "df = load_data_from_google_drive(URL, index_col=0)"
   ]
  },
  {
   "cell_type": "code",
   "execution_count": null,
   "metadata": {},
   "outputs": [],
   "source": [
    "df.head()"
   ]
  },
  {
   "cell_type": "markdown",
   "metadata": {},
   "source": [
    "# ESに接続"
   ]
  },
  {
   "cell_type": "code",
   "execution_count": null,
   "metadata": {},
   "outputs": [],
   "source": [
    "es = elasticsearch.Elasticsearch(\"elasticsearch:9200\")  \n",
    "# es = elasticsearch.Elasticsearch(\"localhost:9200\")  # local (コンテナ外)  から接続する場合はこちらを利用"
   ]
  },
  {
   "cell_type": "markdown",
   "metadata": {},
   "source": [
    "# インデックスの生成"
   ]
  },
  {
   "cell_type": "markdown",
   "metadata": {},
   "source": [
    "`expression2`という名称でindexを作成  \n",
    "下記のデータ形式を想定\n",
    "```\n",
    "{ gene_id: gene,\n",
    "  tpm: {sample_1: 1,\n",
    "        sample_2: 2,\n",
    "  }\n",
    "}\n",
    "```"
   ]
  },
  {
   "cell_type": "code",
   "execution_count": null,
   "metadata": {},
   "outputs": [],
   "source": [
    "index_name = \"expression2\""
   ]
  },
  {
   "cell_type": "code",
   "execution_count": null,
   "metadata": {
    "scrolled": true
   },
   "outputs": [],
   "source": [
    "# スキーマ定義はとりあえずしない\n",
    "# mapping = {\n",
    "#     \"mappings\" : {\n",
    "#             \"properties\" : {\n",
    "#                 \"gene_id\": {\"type\":\"text\"},\n",
    "#                 \"sample_id\": {\"type\":\"text\"},\n",
    "#                 \"tpm\": {\"type\":\"float\"}\n",
    "#             }\n",
    "#     }\n",
    "# }"
   ]
  },
  {
   "cell_type": "code",
   "execution_count": null,
   "metadata": {},
   "outputs": [],
   "source": [
    "# index生成  (存在していたら一旦消してから）\n",
    "# es.indices.create(index=index_name, body=mapping)\n",
    "if es.indices.exists(index=index_name):\n",
    "    es.indices.delete(index=index_name)\n",
    "\n",
    "es.indices.create(index=index_name)"
   ]
  },
  {
   "cell_type": "code",
   "execution_count": null,
   "metadata": {},
   "outputs": [],
   "source": [
    "# indexの存在を確認\n",
    "es.indices.exists(index=index_name)"
   ]
  },
  {
   "cell_type": "markdown",
   "metadata": {},
   "source": [
    "# バルクデータの投入"
   ]
  },
  {
   "cell_type": "code",
   "execution_count": null,
   "metadata": {},
   "outputs": [],
   "source": [
    "def create_data(URL, index_name=index_name):\n",
    "    '''CSVデータから遺伝子ごとのTPM値をjsonで返すジェネレータ関数'''\n",
    "    df = load_data_from_google_drive(URL, index_col=0)\n",
    "    D = df.T.to_dict()\n",
    "    for gene_id, tpm_data in D.items():\n",
    "        source = {\"gene_id\": gene_id, \"tpm\": tpm_data}\n",
    "        yield {\n",
    "            \"_index\": index_name,\n",
    "            \"_id\": f\"{gene_id}\",   # 例) 'Mp1g00010'\n",
    "            \"_source\": source\n",
    "        }"
   ]
  },
  {
   "cell_type": "markdown",
   "metadata": {},
   "source": [
    "19234件のデータ投入"
   ]
  },
  {
   "cell_type": "code",
   "execution_count": null,
   "metadata": {},
   "outputs": [],
   "source": [
    "%%time\n",
    "elasticsearch.helpers.bulk(\n",
    "        es,\n",
    "        actions=create_data(URL),  # ジェネレータ関数を渡しているがiterableであれば良いのでリストでも動くと思われる\n",
    "        chunk_size=1000)"
   ]
  },
  {
   "cell_type": "markdown",
   "metadata": {},
   "source": [
    "__`gene_id`指定してデータ取得__"
   ]
  },
  {
   "cell_type": "code",
   "execution_count": null,
   "metadata": {},
   "outputs": [],
   "source": [
    "ret = es.get(index_name, \"Mp2g00130\")"
   ]
  },
  {
   "cell_type": "code",
   "execution_count": null,
   "metadata": {},
   "outputs": [],
   "source": [
    "print(f'ID: {ret[\"_id\"]}, gene_id: {ret[\"_source\"][\"gene_id\"]}\\nTPM:\\n{ret[\"_source\"][\"tpm\"]}')"
   ]
  },
  {
   "cell_type": "markdown",
   "metadata": {},
   "source": [
    "__searchでデータ取得__ (ID指定の方が早い)"
   ]
  },
  {
   "cell_type": "code",
   "execution_count": null,
   "metadata": {},
   "outputs": [],
   "source": [
    "%%time\n",
    "query = {\"query\": \n",
    "           {\n",
    "            \"match\": {\"gene_id\": \"Mp1g00010\"}\n",
    "           }\n",
    "        }\n",
    "query_body = {\"query\": query}\n",
    "result = es.search(index=index_name, body=query)\n",
    "# get_all_docs(index=index_name, query=query, size=10000)"
   ]
  },
  {
   "cell_type": "code",
   "execution_count": null,
   "metadata": {},
   "outputs": [],
   "source": [
    "print(result[\"hits\"][\"hits\"][0])"
   ]
  },
  {
   "cell_type": "markdown",
   "metadata": {},
   "source": [
    "# データ全件取得 (scrollを使用)"
   ]
  },
  {
   "cell_type": "code",
   "execution_count": null,
   "metadata": {},
   "outputs": [],
   "source": [
    "def get_all_docs(index, query=None, scroll=\"2m\", size=10000, request_timeout=150):\n",
    "    if query is None:\n",
    "        query = {'match_all': {}}\n",
    "    query_body = {'query': query}\n",
    "    data = es.search(index=index_name, body=query_body, scroll=scroll, size=size, request_timeout=request_timeout)\n",
    "    s_id = data['_scroll_id']\n",
    "    s_size = len(data['hits']['hits'])\n",
    "    result = data['hits']['hits']\n",
    "    while (s_size > 0):\n",
    "        data = es.scroll(scroll_id=s_id, scroll=scroll,request_timeout=request_timeout)\n",
    "        s_id = data['_scroll_id']\n",
    "        s_size = len(data['hits']['hits'])\n",
    "        result.extend(data['hits'][\"hits\"])\n",
    "    return result"
   ]
  },
  {
   "cell_type": "code",
   "execution_count": null,
   "metadata": {},
   "outputs": [],
   "source": [
    "%%time\n",
    "result = get_all_docs(index=index_name)"
   ]
  },
  {
   "cell_type": "code",
   "execution_count": null,
   "metadata": {},
   "outputs": [],
   "source": [
    "len(result)"
   ]
  },
  {
   "cell_type": "markdown",
   "metadata": {},
   "source": [
    "__データを発現量テーブルの形に整形__"
   ]
  },
  {
   "cell_type": "code",
   "execution_count": null,
   "metadata": {},
   "outputs": [],
   "source": [
    "%time\n",
    "tmp_result = [x[\"_source\"] for x in result]\n",
    "S = [pd.Series(s[\"tpm\"], name=s[\"gene_id\"]) for s in tmp_result]\n",
    "df_result = pd.DataFrame(S)"
   ]
  },
  {
   "cell_type": "code",
   "execution_count": null,
   "metadata": {},
   "outputs": [],
   "source": [
    "df_result.head()"
   ]
  }
 ],
 "metadata": {
  "kernelspec": {
   "display_name": "Python 3",
   "language": "python",
   "name": "python3"
  },
  "language_info": {
   "codemirror_mode": {
    "name": "ipython",
    "version": 3
   },
   "file_extension": ".py",
   "mimetype": "text/x-python",
   "name": "python",
   "nbconvert_exporter": "python",
   "pygments_lexer": "ipython3",
   "version": "3.8.2"
  },
  "toc": {
   "colors": {
    "hover_highlight": "#DAA520",
    "running_highlight": "#FF0000",
    "selected_highlight": "#FFD700"
   },
   "moveMenuLeft": true,
   "nav_menu": {
    "height": "102px",
    "width": "252px"
   },
   "navigate_menu": true,
   "number_sections": true,
   "sideBar": true,
   "threshold": 4,
   "toc_cell": false,
   "toc_section_display": "block",
   "toc_window_display": false
  },
  "varInspector": {
   "cols": {
    "lenName": 16,
    "lenType": 16,
    "lenVar": 40
   },
   "kernels_config": {
    "python": {
     "delete_cmd_postfix": "",
     "delete_cmd_prefix": "del ",
     "library": "var_list.py",
     "varRefreshCmd": "print(var_dic_list())"
    },
    "r": {
     "delete_cmd_postfix": ") ",
     "delete_cmd_prefix": "rm(",
     "library": "var_list.r",
     "varRefreshCmd": "cat(var_dic_list()) "
    }
   },
   "types_to_exclude": [
    "module",
    "function",
    "builtin_function_or_method",
    "instance",
    "_Feature"
   ],
   "window_display": false
  }
 },
 "nbformat": 4,
 "nbformat_minor": 2
}
