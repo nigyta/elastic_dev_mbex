{
 "cells": [
  {
   "cell_type": "code",
   "execution_count": 1,
   "metadata": {},
   "outputs": [],
   "source": [
    "import elasticsearch"
   ]
  },
  {
   "cell_type": "code",
   "execution_count": 2,
   "metadata": {},
   "outputs": [],
   "source": [
    "from elasticsearch import helpers  # bulk データ投入用"
   ]
  },
  {
   "cell_type": "code",
   "execution_count": 3,
   "metadata": {},
   "outputs": [],
   "source": [
    "import io\n",
    "import requests\n",
    "import pandas as pd"
   ]
  },
  {
   "cell_type": "code",
   "execution_count": 4,
   "metadata": {},
   "outputs": [],
   "source": [
    "URL = \"\"  # Google spread sheetのURL\n",
    "def load_data_from_google_drive(URL, index_col=None):\n",
    "    '''サンプルデータ読み込み'''\n",
    "\n",
    "    URL = URL.replace(\"open\", \"uc\")\n",
    "    r = requests.get(URL)\n",
    "    df = pd.read_csv(io.BytesIO(r.content), index_col=index_col)\n",
    "    return df"
   ]
  },
  {
   "cell_type": "markdown",
   "metadata": {},
   "source": [
    "__データ確認__"
   ]
  },
  {
   "cell_type": "code",
   "execution_count": null,
   "metadata": {},
   "outputs": [],
   "source": [
    "df = load_data_from_google_drive(URL, index_col=0)\n",
    "df.head()"
   ]
  },
  {
   "cell_type": "code",
   "execution_count": 26,
   "metadata": {},
   "outputs": [
    {
     "data": {
      "text/plain": [
       "(19234, 52)"
      ]
     },
     "execution_count": 26,
     "metadata": {},
     "output_type": "execute_result"
    }
   ],
   "source": [
    "df.shape"
   ]
  },
  {
   "cell_type": "markdown",
   "metadata": {},
   "source": [
    "# ESに接続"
   ]
  },
  {
   "cell_type": "code",
   "execution_count": 5,
   "metadata": {},
   "outputs": [],
   "source": [
    "es = elasticsearch.Elasticsearch(\"elasticsearch:9200\")  \n",
    "# es = elasticsearch.Elasticsearch(\"localhost:9200\")  # local (コンテナ外)  から接続する場合はこちらを利用"
   ]
  },
  {
   "cell_type": "markdown",
   "metadata": {},
   "source": [
    "# インデックスの操作（生成、確認、削除）"
   ]
  },
  {
   "cell_type": "markdown",
   "metadata": {},
   "source": [
    "`expression`という名称でindexを作成  \n",
    "下記のデータ形式を想定\n",
    "```\n",
    "    {'sample_id': 'DRR130762',\n",
    "     'gene_id': 'Mp1g00010',\n",
    "     'tpm': 79.6023443575001}\n",
    "```"
   ]
  },
  {
   "cell_type": "code",
   "execution_count": 6,
   "metadata": {
    "scrolled": true
   },
   "outputs": [],
   "source": [
    "# スキーマ定義\n",
    "mapping = {\n",
    "    \"mappings\" : {\n",
    "            \"properties\" : {\n",
    "                \"gene_id\": {\"type\":\"text\"},\n",
    "                \"sample_id\": {\"type\":\"text\"},\n",
    "                \"tpm\": {\"type\":\"float\"}\n",
    "            }\n",
    "    }\n",
    "}"
   ]
  },
  {
   "cell_type": "code",
   "execution_count": 7,
   "metadata": {},
   "outputs": [
    {
     "data": {
      "text/plain": [
       "{'acknowledged': True, 'shards_acknowledged': True, 'index': 'expression'}"
      ]
     },
     "execution_count": 7,
     "metadata": {},
     "output_type": "execute_result"
    }
   ],
   "source": [
    "# index生成 (既に存在していたらエラー)\n",
    "es.indices.create(index='expression', body=mapping)"
   ]
  },
  {
   "cell_type": "code",
   "execution_count": 8,
   "metadata": {},
   "outputs": [
    {
     "data": {
      "text/plain": [
       "True"
      ]
     },
     "execution_count": 8,
     "metadata": {},
     "output_type": "execute_result"
    }
   ],
   "source": [
    "# indexの存在を確認\n",
    "es.indices.exists(index=\"expression\")"
   ]
  },
  {
   "cell_type": "code",
   "execution_count": 9,
   "metadata": {},
   "outputs": [],
   "source": [
    "# indexを削除\n",
    "# es.indices.delete(index=\"expression\")"
   ]
  },
  {
   "cell_type": "markdown",
   "metadata": {},
   "source": [
    "#  データ操作 (追加・更新・検索・削除）"
   ]
  },
  {
   "cell_type": "code",
   "execution_count": 10,
   "metadata": {},
   "outputs": [
    {
     "data": {
      "text/plain": [
       "{'_index': 'expression',\n",
       " '_type': '_doc',\n",
       " '_id': '40',\n",
       " '_version': 1,\n",
       " 'result': 'created',\n",
       " '_shards': {'total': 2, 'successful': 1, 'failed': 0},\n",
       " '_seq_no': 3,\n",
       " '_primary_term': 1}"
      ]
     },
     "execution_count": 10,
     "metadata": {},
     "output_type": "execute_result"
    }
   ],
   "source": [
    "# テストデータ登録 （更新）\n",
    "# 同じIDに対して実行した場合、updateになる\n",
    " \n",
    "data = {\"gene_id\": \"test_gene\", \"sample_id\": \"test_sample\", \"tpm\": 133.4}\n",
    "_id = 10\n",
    "es.index(index='expression', doc_type='_doc', id=_id, body=data)\n",
    "data = {\"gene_id\": \"test_gene2\", \"sample_id\": \"test_sample\", \"tpm\": 200}\n",
    "_id = 20\n",
    "es.index(index='expression', id=_id, body=data)  # doc_typeは指定しなくてもよい (_docになる）\n",
    "data = {\"gene_id\": \"test_gene\", \"sample_id2\": \"test_sample\", \"tpm\": 333}\n",
    "# _id = 30\n",
    "es.index(index='expression', body=data)  # IDも指定しなくてもよい（自動で生成）\n",
    "data = {\"gene_id\": \"test_gene2\", \"sample_id2\": \"test_sample\", \"tpm\": 4444}\n",
    "_id = 40\n",
    "es.index(index='expression', doc_type='_doc', id=_id, body=data)"
   ]
  },
  {
   "cell_type": "code",
   "execution_count": 11,
   "metadata": {},
   "outputs": [
    {
     "name": "stdout",
     "output_type": "stream",
     "text": [
      "ヒット数 : {'value': 2, 'relation': 'eq'}\n",
      "最初のID : 10\n",
      "最初のhit : {'_index': 'expression', '_type': '_doc', '_id': '10', '_score': 0.18232156, '_source': {'gene_id': 'test_gene', 'sample_id': 'test_sample', 'tpm': 133.4}}\n",
      "2件目のhit : {'_index': 'expression', '_type': '_doc', '_id': '20', '_score': 0.18232156, '_source': {'gene_id': 'test_gene2', 'sample_id': 'test_sample', 'tpm': 200}}\n"
     ]
    }
   ],
   "source": [
    "# テストデータの検索 \n",
    "result = es.search(\n",
    "        index='expression',\n",
    "        body={'query': {'match': {'sample_id': 'test_sample'}}})\n",
    "hits = result['hits']\n",
    "\n",
    "print('ヒット数 : %s' % hits['total'])\n",
    "print('最初のID : %s' % hits['hits'][0]['_id'])\n",
    "print('最初のhit : %s' % hits['hits'][0])\n",
    "print('2件目のhit : %s' % hits['hits'][1])\n"
   ]
  },
  {
   "cell_type": "code",
   "execution_count": 12,
   "metadata": {},
   "outputs": [
    {
     "name": "stdout",
     "output_type": "stream",
     "text": [
      "ヒット数 : {'value': 2, 'relation': 'eq'}\n",
      "最初のID : 10\n",
      "最初のhit : {'_index': 'expression', '_type': '_doc', '_id': '10', '_score': 0.6931471, '_source': {'gene_id': 'test_gene', 'sample_id': 'test_sample', 'tpm': 133.4}}\n",
      "2件目のhit : {'_index': 'expression', '_type': '_doc', '_id': 'Xm5rjXEBSNVM_oz7SBJ-', '_score': 0.6931471, '_source': {'gene_id': 'test_gene', 'sample_id2': 'test_sample', 'tpm': 333}}\n"
     ]
    }
   ],
   "source": [
    "# テストデータの検索2  gene_idで検索\n",
    "result = es.search(\n",
    "        index='expression',\n",
    "        body={'query': {'match': {'gene_id': 'test_gene'}}})\n",
    "hits = result['hits']\n",
    "\n",
    "print('ヒット数 : %s' % hits['total'])\n",
    "print('最初のID : %s' % hits['hits'][0]['_id'])\n",
    "print('最初のhit : %s' % hits['hits'][0])\n",
    "print('2件目のhit : %s' % hits['hits'][1])  # IDは自動生成されている"
   ]
  },
  {
   "cell_type": "code",
   "execution_count": 13,
   "metadata": {
    "scrolled": true
   },
   "outputs": [
    {
     "data": {
      "text/plain": [
       "{'_index': 'expression',\n",
       " '_type': '_doc',\n",
       " '_id': '20',\n",
       " '_version': 1,\n",
       " '_seq_no': 1,\n",
       " '_primary_term': 1,\n",
       " 'found': True,\n",
       " '_source': {'gene_id': 'test_gene2', 'sample_id': 'test_sample', 'tpm': 200}}"
      ]
     },
     "execution_count": 13,
     "metadata": {},
     "output_type": "execute_result"
    }
   ],
   "source": [
    "# ID指定で取得\n",
    "es.get(\"expression\", id=20)  #→ GET /expression/_doc/20  と同等"
   ]
  },
  {
   "cell_type": "code",
   "execution_count": 14,
   "metadata": {},
   "outputs": [
    {
     "data": {
      "text/plain": [
       "{'_index': 'expression',\n",
       " '_type': '_doc',\n",
       " '_id': '20',\n",
       " '_version': 2,\n",
       " 'result': 'deleted',\n",
       " '_shards': {'total': 2, 'successful': 1, 'failed': 0},\n",
       " '_seq_no': 4,\n",
       " '_primary_term': 1}"
      ]
     },
     "execution_count": 14,
     "metadata": {},
     "output_type": "execute_result"
    }
   ],
   "source": [
    "# ID指定で削除\n",
    "es.delete(index='expression', id='20')"
   ]
  },
  {
   "cell_type": "code",
   "execution_count": 15,
   "metadata": {},
   "outputs": [
    {
     "data": {
      "text/plain": [
       "{'took': 18,\n",
       " 'timed_out': False,\n",
       " 'total': 2,\n",
       " 'deleted': 2,\n",
       " 'batches': 1,\n",
       " 'version_conflicts': 0,\n",
       " 'noops': 0,\n",
       " 'retries': {'bulk': 0, 'search': 0},\n",
       " 'throttled_millis': 0,\n",
       " 'requests_per_second': -1.0,\n",
       " 'throttled_until_millis': 0,\n",
       " 'failures': []}"
      ]
     },
     "execution_count": 15,
     "metadata": {},
     "output_type": "execute_result"
    }
   ],
   "source": [
    "#  クエリで検索して削除\n",
    "es.delete_by_query(\n",
    "        index='expression', \n",
    "        body={'query': {'match': {'gene_id': 'test_gene'}}})"
   ]
  },
  {
   "cell_type": "code",
   "execution_count": 16,
   "metadata": {},
   "outputs": [
    {
     "data": {
      "text/plain": [
       "{'took': 2,\n",
       " 'timed_out': False,\n",
       " '_shards': {'total': 1, 'successful': 1, 'skipped': 0, 'failed': 0},\n",
       " 'hits': {'total': {'value': 1, 'relation': 'eq'},\n",
       "  'max_score': 1.0,\n",
       "  'hits': [{'_index': 'expression',\n",
       "    '_type': '_doc',\n",
       "    '_id': '40',\n",
       "    '_score': 1.0,\n",
       "    '_source': {'gene_id': 'test_gene2',\n",
       "     'sample_id2': 'test_sample',\n",
       "     'tpm': 4444}}]}}"
      ]
     },
     "execution_count": 16,
     "metadata": {},
     "output_type": "execute_result"
    }
   ],
   "source": [
    "# 全件検索 (ただし、defaultでは10000件までしか取得してくれない。elasticsearchの設定を変えるか後述のscrollを使用する必要がある)\n",
    "result = es.search(\n",
    "        index='expression',\n",
    "        body={'query': {'match_all': {}}})\n",
    "result"
   ]
  },
  {
   "cell_type": "code",
   "execution_count": 17,
   "metadata": {},
   "outputs": [
    {
     "data": {
      "text/plain": [
       "{'took': 29,\n",
       " 'timed_out': False,\n",
       " 'total': 1,\n",
       " 'deleted': 1,\n",
       " 'batches': 1,\n",
       " 'version_conflicts': 0,\n",
       " 'noops': 0,\n",
       " 'retries': {'bulk': 0, 'search': 0},\n",
       " 'throttled_millis': 0,\n",
       " 'requests_per_second': -1.0,\n",
       " 'throttled_until_millis': 0,\n",
       " 'failures': []}"
      ]
     },
     "execution_count": 17,
     "metadata": {},
     "output_type": "execute_result"
    }
   ],
   "source": [
    "# 全件削除 (indexを削除して再生成したほうが早いかも)\n",
    "es.delete_by_query(\n",
    "        index='expression',\n",
    "        body={\"query\": {\"match_all\": {}}})"
   ]
  },
  {
   "cell_type": "code",
   "execution_count": 18,
   "metadata": {},
   "outputs": [
    {
     "data": {
      "text/plain": [
       "{'value': 0, 'relation': 'eq'}"
      ]
     },
     "execution_count": 18,
     "metadata": {},
     "output_type": "execute_result"
    }
   ],
   "source": [
    "# 削除されたことを確認\n",
    "result = es.search(\n",
    "        index='expression',\n",
    "        body={'query': {'match_all': {}}})\n",
    "result[\"hits\"][\"total\"]"
   ]
  },
  {
   "cell_type": "markdown",
   "metadata": {},
   "source": [
    "# バルクデータの投入"
   ]
  },
  {
   "cell_type": "code",
   "execution_count": 19,
   "metadata": {},
   "outputs": [],
   "source": [
    "def create_data(URL, index_name=\"expression\"):\n",
    "    '''CSVデータから１行ずつデータをjsonで返すジェネレータ関数'''\n",
    "    df = load_data_from_google_drive(URL, index_col=0)\n",
    "    D = df.stack().to_dict()\n",
    "    for (gene_id, sample_id), tpm in D.items():\n",
    "        source = {\"sample_id\": sample_id, \"gene_id\": gene_id, \"tpm\": tpm}\n",
    "        yield {\n",
    "            \"_index\": index_name,\n",
    "            \"_id\": f\"{sample_id}_{gene_id}\",   # 例) 'DRR130762_Mp1g00010'\n",
    "            \"_source\": source\n",
    "        }"
   ]
  },
  {
   "cell_type": "markdown",
   "metadata": {},
   "source": [
    " 1000168 件のデータ投入"
   ]
  },
  {
   "cell_type": "code",
   "execution_count": 20,
   "metadata": {},
   "outputs": [
    {
     "name": "stdout",
     "output_type": "stream",
     "text": [
      "CPU times: user 34.5 s, sys: 910 ms, total: 35.4 s\n",
      "Wall time: 1min 54s\n"
     ]
    },
    {
     "data": {
      "text/plain": [
       "(1000168, [])"
      ]
     },
     "execution_count": 20,
     "metadata": {},
     "output_type": "execute_result"
    }
   ],
   "source": [
    "%%time\n",
    "# chuck_size=1000だとwall time 2min15s, 10000だと2m1s\n",
    "elasticsearch.helpers.bulk(\n",
    "        es,\n",
    "        actions=create_data(URL),  # ジェネレータ関数を渡しているがiterableであれば良いのでリストでも動くと思われる\n",
    "        chunk_size=1000)"
   ]
  },
  {
   "cell_type": "markdown",
   "metadata": {},
   "source": [
    "# データ全件取得 (scrollを使用)"
   ]
  },
  {
   "cell_type": "code",
   "execution_count": 21,
   "metadata": {},
   "outputs": [],
   "source": [
    "def get_all_docs(index, query=None, scroll=\"2m\", size=10000, request_timeout=150):\n",
    "    if query is None:\n",
    "        query = {'match_all': {}}\n",
    "    query_body = {'query': query}\n",
    "    data = es.search(index=\"expression\", body=query_body, scroll=scroll, size=size, request_timeout=request_timeout)\n",
    "    s_id = data['_scroll_id']\n",
    "    s_size = len(data['hits']['hits'])\n",
    "    result = data['hits']['hits']\n",
    "    while (s_size > 0):\n",
    "        data = es.scroll(scroll_id=s_id, scroll=scroll,request_timeout=request_timeout)\n",
    "        s_id = data['_scroll_id']\n",
    "        s_size = len(data['hits']['hits'])\n",
    "        result.extend(data['hits'][\"hits\"])\n",
    "    return result"
   ]
  },
  {
   "cell_type": "code",
   "execution_count": 22,
   "metadata": {},
   "outputs": [
    {
     "name": "stdout",
     "output_type": "stream",
     "text": [
      "CPU times: user 4.49 s, sys: 437 ms, total: 4.93 s\n",
      "Wall time: 23.5 s\n"
     ]
    }
   ],
   "source": [
    "%%time\n",
    "result = get_all_docs(index=\"expression\")"
   ]
  },
  {
   "cell_type": "code",
   "execution_count": 23,
   "metadata": {},
   "outputs": [
    {
     "data": {
      "text/plain": [
       "1000168"
      ]
     },
     "execution_count": 23,
     "metadata": {},
     "output_type": "execute_result"
    }
   ],
   "source": [
    "len(result)"
   ]
  },
  {
   "cell_type": "markdown",
   "metadata": {},
   "source": [
    "__データを発現量テーブルの形に整形__"
   ]
  },
  {
   "cell_type": "code",
   "execution_count": 27,
   "metadata": {},
   "outputs": [],
   "source": [
    "tmp_result = [x[\"_source\"] for x in result]\n",
    "df_result = pd.DataFrame(tmp_result)\n",
    "df_result = df_result.set_index([\"gene_id\", \"sample_id\"]).unstack()"
   ]
  },
  {
   "cell_type": "code",
   "execution_count": null,
   "metadata": {
    "scrolled": true
   },
   "outputs": [],
   "source": [
    "df_result.head()"
   ]
  },
  {
   "cell_type": "code",
   "execution_count": 29,
   "metadata": {},
   "outputs": [
    {
     "data": {
      "text/plain": [
       "(19234, 52)"
      ]
     },
     "execution_count": 29,
     "metadata": {},
     "output_type": "execute_result"
    }
   ],
   "source": [
    "df_result.shape"
   ]
  },
  {
   "cell_type": "code",
   "execution_count": 30,
   "metadata": {
    "scrolled": true
   },
   "outputs": [
    {
     "data": {
      "text/plain": [
       "1000168"
      ]
     },
     "execution_count": 30,
     "metadata": {},
     "output_type": "execute_result"
    }
   ],
   "source": [
    "df_result.size"
   ]
  },
  {
   "cell_type": "markdown",
   "metadata": {},
   "source": [
    "__特定の`gene_id`のみを選択してデータ取得__"
   ]
  },
  {
   "cell_type": "code",
   "execution_count": 31,
   "metadata": {
    "scrolled": true
   },
   "outputs": [
    {
     "name": "stdout",
     "output_type": "stream",
     "text": [
      "CPU times: user 266 ms, sys: 3.82 ms, total: 269 ms\n",
      "Wall time: 290 ms\n"
     ]
    }
   ],
   "source": [
    "%%time\n",
    "query = {\n",
    "    \"match\": {\"gene_id\": \"Mp1g00030 Mp2g00130 Mp3g00330\"}\n",
    "    }\n",
    "result = get_all_docs(index=\"expression\", query=query, size=10000)"
   ]
  },
  {
   "cell_type": "code",
   "execution_count": 32,
   "metadata": {},
   "outputs": [],
   "source": [
    "tmp_result = [x[\"_source\"] for x in result]\n",
    "df_result = pd.DataFrame(tmp_result)\n",
    "df_result = df_result.set_index([\"gene_id\", \"sample_id\"]).unstack()"
   ]
  },
  {
   "cell_type": "code",
   "execution_count": null,
   "metadata": {},
   "outputs": [],
   "source": [
    "df_result.head()"
   ]
  },
  {
   "cell_type": "markdown",
   "metadata": {},
   "source": [
    "__特定の`sample_id`のみを選択してデータ取得__"
   ]
  },
  {
   "cell_type": "code",
   "execution_count": 34,
   "metadata": {},
   "outputs": [
    {
     "name": "stdout",
     "output_type": "stream",
     "text": [
      "CPU times: user 466 ms, sys: 14 ms, total: 480 ms\n",
      "Wall time: 2.39 s\n"
     ]
    }
   ],
   "source": [
    "%%time\n",
    "query = {\n",
    "    \"match\": {\"sample_id\": \"DRR130765 ERR364416 SRR971245 SRR7977555 SRR7977550 DRR130763 DRR130768\"}\n",
    "    }\n",
    "result = get_all_docs(index=\"expression\", query=query, size=10000)"
   ]
  },
  {
   "cell_type": "code",
   "execution_count": 35,
   "metadata": {},
   "outputs": [],
   "source": [
    "tmp_result = [x[\"_source\"] for x in result]\n",
    "df_result = pd.DataFrame(tmp_result)\n",
    "df_result = df_result.set_index([\"gene_id\", \"sample_id\"]).unstack()"
   ]
  },
  {
   "cell_type": "code",
   "execution_count": null,
   "metadata": {},
   "outputs": [],
   "source": [
    "df_result.head()"
   ]
  },
  {
   "cell_type": "code",
   "execution_count": 37,
   "metadata": {},
   "outputs": [
    {
     "data": {
      "text/plain": [
       "(19234, 7)"
      ]
     },
     "execution_count": 37,
     "metadata": {},
     "output_type": "execute_result"
    }
   ],
   "source": [
    "df_result.shape"
   ]
  },
  {
   "cell_type": "code",
   "execution_count": 38,
   "metadata": {},
   "outputs": [
    {
     "data": {
      "text/plain": [
       "MultiIndex([('tpm',  'DRR130763'),\n",
       "            ('tpm',  'DRR130765'),\n",
       "            ('tpm',  'DRR130768'),\n",
       "            ('tpm',  'ERR364416'),\n",
       "            ('tpm', 'SRR7977550'),\n",
       "            ('tpm', 'SRR7977555'),\n",
       "            ('tpm',  'SRR971245')],\n",
       "           names=[None, 'sample_id'])"
      ]
     },
     "execution_count": 38,
     "metadata": {},
     "output_type": "execute_result"
    }
   ],
   "source": [
    "df_result.columns"
   ]
  },
  {
   "cell_type": "code",
   "execution_count": null,
   "metadata": {},
   "outputs": [],
   "source": [
    "df_result[[('tpm',  'SRR971245'), ('tpm',  'SRR7977550')]]"
   ]
  }
 ],
 "metadata": {
  "kernelspec": {
   "display_name": "Python 3",
   "language": "python",
   "name": "python3"
  },
  "language_info": {
   "codemirror_mode": {
    "name": "ipython",
    "version": 3
   },
   "file_extension": ".py",
   "mimetype": "text/x-python",
   "name": "python",
   "nbconvert_exporter": "python",
   "pygments_lexer": "ipython3",
   "version": "3.8.2"
  },
  "toc": {
   "colors": {
    "hover_highlight": "#DAA520",
    "running_highlight": "#FF0000",
    "selected_highlight": "#FFD700"
   },
   "moveMenuLeft": true,
   "nav_menu": {
    "height": "102px",
    "width": "252px"
   },
   "navigate_menu": true,
   "number_sections": true,
   "sideBar": true,
   "threshold": 4,
   "toc_cell": false,
   "toc_section_display": "block",
   "toc_window_display": false
  },
  "varInspector": {
   "cols": {
    "lenName": 16,
    "lenType": 16,
    "lenVar": 40
   },
   "kernels_config": {
    "python": {
     "delete_cmd_postfix": "",
     "delete_cmd_prefix": "del ",
     "library": "var_list.py",
     "varRefreshCmd": "print(var_dic_list())"
    },
    "r": {
     "delete_cmd_postfix": ") ",
     "delete_cmd_prefix": "rm(",
     "library": "var_list.r",
     "varRefreshCmd": "cat(var_dic_list()) "
    }
   },
   "types_to_exclude": [
    "module",
    "function",
    "builtin_function_or_method",
    "instance",
    "_Feature"
   ],
   "window_display": false
  }
 },
 "nbformat": 4,
 "nbformat_minor": 2
}
